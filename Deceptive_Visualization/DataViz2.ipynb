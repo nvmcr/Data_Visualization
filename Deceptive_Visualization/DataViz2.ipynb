{
 "cells": [
  {
   "cell_type": "code",
   "execution_count": 109,
   "metadata": {},
   "outputs": [],
   "source": [
    "import altair as alt\n",
    "import pandas as pd\n",
    "from vega_datasets import data"
   ]
  },
  {
   "cell_type": "code",
   "execution_count": 110,
   "metadata": {},
   "outputs": [
    {
     "data": {
      "text/plain": [
       "'https://cdn.jsdelivr.net/npm/vega-datasets@v1.29.0/data/us-10m.json'"
      ]
     },
     "execution_count": 110,
     "metadata": {},
     "output_type": "execute_result"
    }
   ],
   "source": [
    "usa = data.us_10m.url\n",
    "usa"
   ]
  },
  {
   "cell_type": "code",
   "execution_count": 111,
   "metadata": {},
   "outputs": [],
   "source": [
    "states = alt.topo_feature(data.us_10m.url, 'states')\n",
    "data = pd.read_csv('data.csv')"
   ]
  },
  {
   "cell_type": "code",
   "execution_count": 112,
   "metadata": {},
   "outputs": [],
   "source": [
    "data01 = data[data['year']==2001]\n",
    "data16 = data[data['year']==2016]"
   ]
  },
  {
   "cell_type": "code",
   "execution_count": 194,
   "metadata": {},
   "outputs": [],
   "source": [
    "def map_(data,scheme,title):\n",
    "    return alt.Chart(states,title=title).mark_geoshape(stroke='#aaa', strokeWidth=0.25\n",
    ").transform_lookup(\n",
    "    lookup='id',\n",
    "    from_=alt.LookupData(data=data, key='id', fields=['Cases Count'])\n",
    ").encode(\n",
    "    alt.Color('Cases Count:Q',\n",
    "              scale=alt.Scale(scheme=scheme, domain=[0, 200000]))\n",
    ").properties(\n",
    "    width=900,\n",
    "    height=500\n",
    ").project(\n",
    "    type='albersUsa'\n",
    ")"
   ]
  },
  {
   "cell_type": "code",
   "execution_count": 259,
   "metadata": {},
   "outputs": [],
   "source": [
    "chart1 = alt.Chart(states,title=alt.TitleParams(\n",
    "    text = \"2001\",\n",
    "    anchor = \"middle\",\n",
    "    align = \"center\",\n",
    "    color = \"black\",\n",
    "    fontSize = 15,\n",
    ")).mark_geoshape(stroke='#aaa', strokeWidth=0.25).transform_lookup(\n",
    "    lookup='id',\n",
    "    from_=alt.LookupData(data=data01, key='id', fields=['Cases Count'])\n",
    ").encode(\n",
    "    color=alt.Color('Cases Count:Q',\n",
    "              scale=alt.Scale(scheme=\"reds\", domain=[0, 200000]),\n",
    "              legend = alt.Legend(titleFontSize=15,labelFontSize=15,titlePadding=15))\n",
    ").properties(\n",
    "    width=800,\n",
    "    height=500\n",
    ").project(\n",
    "    type='albersUsa'\n",
    ")\n",
    "\n",
    "chart2 = alt.Chart(states,title=alt.TitleParams(\n",
    "    text = \"2016\",\n",
    "    anchor = \"middle\",\n",
    "    align = \"center\",\n",
    "    color = \"black\",\n",
    "    fontSize = 15,\n",
    ")).mark_geoshape(stroke='#aaa', strokeWidth=0.25).transform_lookup(\n",
    "    lookup='id',\n",
    "    from_=alt.LookupData(data=data16, key='id', fields=['Cases Count'])\n",
    ").encode(\n",
    "    color=alt.Color('Cases Count:Q',\n",
    "              scale=alt.Scale(scheme=\"reds\", domain=[0, 200000]),\n",
    "              legend = alt.Legend(titleFontSize=15,labelFontSize=15,titlePadding=15))\n",
    ").properties(\n",
    "    width=800,\n",
    "    height=500\n",
    ").project(\n",
    "    type='albersUsa'\n",
    ")"
   ]
  },
  {
   "cell_type": "code",
   "execution_count": 260,
   "metadata": {},
   "outputs": [
    {
     "data": {
      "text/html": [
       "\n",
       "<div id=\"altair-viz-8b62d7ed913246ba898a752fdd48c270\"></div>\n",
       "<script type=\"text/javascript\">\n",
       "  var VEGA_DEBUG = (typeof VEGA_DEBUG == \"undefined\") ? {} : VEGA_DEBUG;\n",
       "  (function(spec, embedOpt){\n",
       "    let outputDiv = document.currentScript.previousElementSibling;\n",
       "    if (outputDiv.id !== \"altair-viz-8b62d7ed913246ba898a752fdd48c270\") {\n",
       "      outputDiv = document.getElementById(\"altair-viz-8b62d7ed913246ba898a752fdd48c270\");\n",
       "    }\n",
       "    const paths = {\n",
       "      \"vega\": \"https://cdn.jsdelivr.net/npm//vega@5?noext\",\n",
       "      \"vega-lib\": \"https://cdn.jsdelivr.net/npm//vega-lib?noext\",\n",
       "      \"vega-lite\": \"https://cdn.jsdelivr.net/npm//vega-lite@4.17.0?noext\",\n",
       "      \"vega-embed\": \"https://cdn.jsdelivr.net/npm//vega-embed@6?noext\",\n",
       "    };\n",
       "\n",
       "    function maybeLoadScript(lib, version) {\n",
       "      var key = `${lib.replace(\"-\", \"\")}_version`;\n",
       "      return (VEGA_DEBUG[key] == version) ?\n",
       "        Promise.resolve(paths[lib]) :\n",
       "        new Promise(function(resolve, reject) {\n",
       "          var s = document.createElement('script');\n",
       "          document.getElementsByTagName(\"head\")[0].appendChild(s);\n",
       "          s.async = true;\n",
       "          s.onload = () => {\n",
       "            VEGA_DEBUG[key] = version;\n",
       "            return resolve(paths[lib]);\n",
       "          };\n",
       "          s.onerror = () => reject(`Error loading script: ${paths[lib]}`);\n",
       "          s.src = paths[lib];\n",
       "        });\n",
       "    }\n",
       "\n",
       "    function showError(err) {\n",
       "      outputDiv.innerHTML = `<div class=\"error\" style=\"color:red;\">${err}</div>`;\n",
       "      throw err;\n",
       "    }\n",
       "\n",
       "    function displayChart(vegaEmbed) {\n",
       "      vegaEmbed(outputDiv, spec, embedOpt)\n",
       "        .catch(err => showError(`Javascript Error: ${err.message}<br>This usually means there's a typo in your chart specification. See the javascript console for the full traceback.`));\n",
       "    }\n",
       "\n",
       "    if(typeof define === \"function\" && define.amd) {\n",
       "      requirejs.config({paths});\n",
       "      require([\"vega-embed\"], displayChart, err => showError(`Error loading script: ${err.message}`));\n",
       "    } else {\n",
       "      maybeLoadScript(\"vega\", \"5\")\n",
       "        .then(() => maybeLoadScript(\"vega-lite\", \"4.17.0\"))\n",
       "        .then(() => maybeLoadScript(\"vega-embed\", \"6\"))\n",
       "        .catch(showError)\n",
       "        .then(() => displayChart(vegaEmbed));\n",
       "    }\n",
       "  })({\"config\": {\"view\": {\"continuousWidth\": 400, \"continuousHeight\": 300}}, \"hconcat\": [{\"hconcat\": [{\"mark\": {\"type\": \"geoshape\", \"stroke\": \"#aaa\", \"strokeWidth\": 0.25}, \"encoding\": {\"color\": {\"field\": \"Cases Count\", \"legend\": {\"labelFontSize\": 15, \"titleFontSize\": 15, \"titlePadding\": 15}, \"scale\": {\"domain\": [0, 200000], \"scheme\": \"reds\"}, \"type\": \"quantitative\"}}, \"height\": 500, \"projection\": {\"type\": \"albersUsa\"}, \"title\": {\"text\": \"2001\", \"align\": \"center\", \"anchor\": \"middle\", \"color\": \"black\", \"fontSize\": 15}, \"transform\": [{\"lookup\": \"id\", \"from\": {\"data\": {\"name\": \"data-e7dc2beea3e38cfd04109196fc78cff8\"}, \"key\": \"id\", \"fields\": [\"Cases Count\"]}}], \"width\": 800}, {\"mark\": {\"type\": \"geoshape\", \"stroke\": \"#aaa\", \"strokeWidth\": 0.25}, \"encoding\": {\"color\": {\"field\": \"Cases Count\", \"legend\": {\"labelFontSize\": 15, \"titleFontSize\": 15, \"titlePadding\": 15}, \"scale\": {\"domain\": [0, 200000], \"scheme\": \"reds\"}, \"type\": \"quantitative\"}}, \"height\": 500, \"projection\": {\"type\": \"albersUsa\"}, \"title\": {\"text\": \"2016\", \"align\": \"center\", \"anchor\": \"middle\", \"color\": \"black\", \"fontSize\": 15}, \"transform\": [{\"lookup\": \"id\", \"from\": {\"data\": {\"name\": \"data-be776b7111e31829c3ecdedd96ecb586\"}, \"key\": \"id\", \"fields\": [\"Cases Count\"]}}], \"width\": 800}]}], \"data\": {\"url\": \"https://cdn.jsdelivr.net/npm/vega-datasets@v1.29.0/data/us-10m.json\", \"format\": {\"feature\": \"states\", \"type\": \"topojson\"}}, \"title\": {\"text\": \"1. Violent Crime Cases in USA\", \"align\": \"center\", \"anchor\": \"middle\", \"color\": \"black\", \"font\": \"georgia\", \"fontSize\": 30, \"offset\": 30, \"subtitle\": \"No significant decrease in cases count from 2001 to 2016\", \"subtitleFontSize\": 20}, \"$schema\": \"https://vega.github.io/schema/vega-lite/v4.17.0.json\", \"datasets\": {\"data-e7dc2beea3e38cfd04109196fc78cff8\": [{\"jurisdiction\": \"ALABAMA\", \"id\": 1, \"year\": 2001, \"prisoner_count\": 24741, \"Cases Count\": 19582}, {\"jurisdiction\": \"ALASKA\", \"id\": 2, \"year\": 2001, \"prisoner_count\": 4570, \"Cases Count\": 3735}, {\"jurisdiction\": \"ARIZONA\", \"id\": 4, \"year\": 2001, \"prisoner_count\": 27710, \"Cases Count\": 28675}, {\"jurisdiction\": \"ARKANSAS\", \"id\": 5, \"year\": 2001, \"prisoner_count\": 11489, \"Cases Count\": 12190}, {\"jurisdiction\": \"CALIFORNIA\", \"id\": 6, \"year\": 2001, \"prisoner_count\": 157142, \"Cases Count\": 174796}, {\"jurisdiction\": \"COLORADO\", \"id\": 8, \"year\": 2001, \"prisoner_count\": 17278, \"Cases Count\": 15492}, {\"jurisdiction\": \"CONNECTICUT\", \"id\": 9, \"year\": 2001, \"prisoner_count\": 17507, \"Cases Count\": 8169}, {\"jurisdiction\": \"DELAWARE\", \"id\": 10, \"year\": 2001, \"prisoner_count\": 6841, \"Cases Count\": 4868}, {\"jurisdiction\": \"FLORIDA\", \"id\": 12, \"year\": 2001, \"prisoner_count\": 72404, \"Cases Count\": 88700}, {\"jurisdiction\": \"GEORGIA\", \"id\": 13, \"year\": 2001, \"prisoner_count\": 45937, \"Cases Count\": 41671}, {\"jurisdiction\": \"HAWAII\", \"id\": 15, \"year\": 2001, \"prisoner_count\": 5116, \"Cases Count\": 3117}, {\"jurisdiction\": \"IDAHO\", \"id\": 16, \"year\": 2001, \"prisoner_count\": 5270, \"Cases Count\": 3211}, {\"jurisdiction\": \"ILLINOIS\", \"id\": 17, \"year\": 2001, \"prisoner_count\": 44348, \"Cases Count\": 79270}, {\"jurisdiction\": \"INDIANA\", \"id\": 18, \"year\": 2001, \"prisoner_count\": 19646, \"Cases Count\": 22734}, {\"jurisdiction\": \"IOWA\", \"id\": 19, \"year\": 2001, \"prisoner_count\": 7962, \"Cases Count\": 7865}, {\"jurisdiction\": \"KANSAS\", \"id\": 20, \"year\": 2001, \"prisoner_count\": 8574, \"Cases Count\": 10909}, {\"jurisdiction\": \"KENTUCKY\", \"id\": 21, \"year\": 2001, \"prisoner_count\": 10720, \"Cases Count\": 10510}, {\"jurisdiction\": \"LOUISIANA\", \"id\": 22, \"year\": 2001, \"prisoner_count\": 19660, \"Cases Count\": 30678}, {\"jurisdiction\": \"MAINE\", \"id\": 23, \"year\": 2001, \"prisoner_count\": 1675, \"Cases Count\": 1435}, {\"jurisdiction\": \"MARYLAND\", \"id\": 24, \"year\": 2001, \"prisoner_count\": 23739, \"Cases Count\": 42088}, {\"jurisdiction\": \"MASSACHUSETTS\", \"id\": 25, \"year\": 2001, \"prisoner_count\": 10203, \"Cases Count\": 30585}, {\"jurisdiction\": \"MICHIGAN\", \"id\": 26, \"year\": 2001, \"prisoner_count\": 48849, \"Cases Count\": 55424}, {\"jurisdiction\": \"MINNESOTA\", \"id\": 27, \"year\": 2001, \"prisoner_count\": 6406, \"Cases Count\": 13145}, {\"jurisdiction\": \"MISSISSIPPI\", \"id\": 28, \"year\": 2001, \"prisoner_count\": 15131, \"Cases Count\": 10006}, {\"jurisdiction\": \"MISSOURI\", \"id\": 29, \"year\": 2001, \"prisoner_count\": 28575, \"Cases Count\": 30472}, {\"jurisdiction\": \"MONTANA\", \"id\": 30, \"year\": 2001, \"prisoner_count\": 2795, \"Cases Count\": 3187}, {\"jurisdiction\": \"NEBRASKA\", \"id\": 31, \"year\": 2001, \"prisoner_count\": 3915, \"Cases Count\": 5214}, {\"jurisdiction\": \"NEVADA\", \"id\": 32, \"year\": 2001, \"prisoner_count\": 9862, \"Cases Count\": 12359}, {\"jurisdiction\": \"NEW HAMPSHIRE\", \"id\": 33, \"year\": 2001, \"prisoner_count\": 2419, \"Cases Count\": 2144}, {\"jurisdiction\": \"NEW JERSEY\", \"id\": 34, \"year\": 2001, \"prisoner_count\": 26052, \"Cases Count\": 33094}, {\"jurisdiction\": \"NEW MEXICO\", \"id\": 35, \"year\": 2001, \"prisoner_count\": 5668, \"Cases Count\": 14288}, {\"jurisdiction\": \"NEW YORK\", \"id\": 36, \"year\": 2001, \"prisoner_count\": 67554, \"Cases Count\": 98022}, {\"jurisdiction\": \"NORTH CAROLINA\", \"id\": 37, \"year\": 2001, \"prisoner_count\": 32203, \"Cases Count\": 40465}, {\"jurisdiction\": \"NORTH DAKOTA\", \"id\": 38, \"year\": 2001, \"prisoner_count\": 1088, \"Cases Count\": 505}, {\"jurisdiction\": \"OHIO\", \"id\": 39, \"year\": 2001, \"prisoner_count\": 44868, \"Cases Count\": 40023}, {\"jurisdiction\": \"OKLAHOMA\", \"id\": 40, \"year\": 2001, \"prisoner_count\": 21719, \"Cases Count\": 17726}, {\"jurisdiction\": \"OREGON\", \"id\": 41, \"year\": 2001, \"prisoner_count\": 10950, \"Cases Count\": 10650}, {\"jurisdiction\": \"PENNSYLVANIA\", \"id\": 42, \"year\": 2001, \"prisoner_count\": 37641, \"Cases Count\": 50432}, {\"jurisdiction\": \"RHODE ISLAND\", \"id\": 44, \"year\": 2001, \"prisoner_count\": 3364, \"Cases Count\": 3278}, {\"jurisdiction\": \"SOUTH CAROLINA\", \"id\": 45, \"year\": 2001, \"prisoner_count\": 21719, \"Cases Count\": 33114}, {\"jurisdiction\": \"SOUTH DAKOTA\", \"id\": 46, \"year\": 2001, \"prisoner_count\": 2799, \"Cases Count\": 1171}, {\"jurisdiction\": \"TENNESSEE\", \"id\": 47, \"year\": 2001, \"prisoner_count\": 17466, \"Cases Count\": 42776}, {\"jurisdiction\": \"TEXAS\", \"id\": 48, \"year\": 2001, \"prisoner_count\": 148480, \"Cases Count\": 122155}, {\"jurisdiction\": \"UTAH\", \"id\": 49, \"year\": 2001, \"prisoner_count\": 4145, \"Cases Count\": 5314}, {\"jurisdiction\": \"VERMONT\", \"id\": 50, \"year\": 2001, \"prisoner_count\": 1400, \"Cases Count\": 644}, {\"jurisdiction\": \"VIRGINIA\", \"id\": 51, \"year\": 2001, \"prisoner_count\": 31472, \"Cases Count\": 20939}, {\"jurisdiction\": \"WASHINGTON\", \"id\": 53, \"year\": 2001, \"prisoner_count\": 15226, \"Cases Count\": 21258}, {\"jurisdiction\": \"WEST VIRGINIA\", \"id\": 54, \"year\": 2001, \"prisoner_count\": 3403, \"Cases Count\": 5035}, {\"jurisdiction\": \"WISCONSIN\", \"id\": 55, \"year\": 2001, \"prisoner_count\": 20766, \"Cases Count\": 12486}, {\"jurisdiction\": \"WYOMING\", \"id\": 56, \"year\": 2001, \"prisoner_count\": 1487, \"Cases Count\": 1272}], \"data-be776b7111e31829c3ecdedd96ecb586\": [{\"jurisdiction\": \"ALABAMA\", \"id\": 1, \"year\": 2016, \"prisoner_count\": 23745, \"Cases Count\": 25878}, {\"jurisdiction\": \"ALASKA\", \"id\": 2, \"year\": 2016, \"prisoner_count\": 4378, \"Cases Count\": 5966}, {\"jurisdiction\": \"ARIZONA\", \"id\": 4, \"year\": 2016, \"prisoner_count\": 42248, \"Cases Count\": 32542}, {\"jurisdiction\": \"ARKANSAS\", \"id\": 5, \"year\": 2016, \"prisoner_count\": 15833, \"Cases Count\": 16563}, {\"jurisdiction\": \"CALIFORNIA\", \"id\": 6, \"year\": 2016, \"prisoner_count\": 129416, \"Cases Count\": 192867}, {\"jurisdiction\": \"COLORADO\", \"id\": 8, \"year\": 2016, \"prisoner_count\": 19486, \"Cases Count\": 19030}, {\"jurisdiction\": \"CONNECTICUT\", \"id\": 9, \"year\": 2016, \"prisoner_count\": 15040, \"Cases Count\": 11492}, {\"jurisdiction\": \"DELAWARE\", \"id\": 10, \"year\": 2016, \"prisoner_count\": 6334, \"Cases Count\": 4859}, {\"jurisdiction\": \"FLORIDA\", \"id\": 12, \"year\": 2016, \"prisoner_count\": 98010, \"Cases Count\": 130713}, {\"jurisdiction\": \"GEORGIA\", \"id\": 13, \"year\": 2016, \"prisoner_count\": 53433, \"Cases Count\": 40268}, {\"jurisdiction\": \"HAWAII\", \"id\": 15, \"year\": 2016, \"prisoner_count\": 5182, \"Cases Count\": 3452}, {\"jurisdiction\": \"IDAHO\", \"id\": 16, \"year\": 2016, \"prisoner_count\": 7221, \"Cases Count\": 3876}, {\"jurisdiction\": \"ILLINOIS\", \"id\": 17, \"year\": 2016, \"prisoner_count\": 43616, \"Cases Count\": 56054}, {\"jurisdiction\": \"INDIANA\", \"id\": 18, \"year\": 2016, \"prisoner_count\": 25143, \"Cases Count\": 26516}, {\"jurisdiction\": \"IOWA\", \"id\": 19, \"year\": 2016, \"prisoner_count\": 9049, \"Cases Count\": 9170}, {\"jurisdiction\": \"KANSAS\", \"id\": 20, \"year\": 2016, \"prisoner_count\": 9653, \"Cases Count\": 11665}, {\"jurisdiction\": \"KENTUCKY\", \"id\": 21, \"year\": 2016, \"prisoner_count\": 11867, \"Cases Count\": 10452}, {\"jurisdiction\": \"LOUISIANA\", \"id\": 22, \"year\": 2016, \"prisoner_count\": 15059, \"Cases Count\": 26477}, {\"jurisdiction\": \"MAINE\", \"id\": 23, \"year\": 2016, \"prisoner_count\": 2356, \"Cases Count\": 1649}, {\"jurisdiction\": \"MARYLAND\", \"id\": 24, \"year\": 2016, \"prisoner_count\": 20236, \"Cases Count\": 29019}, {\"jurisdiction\": \"MASSACHUSETTS\", \"id\": 25, \"year\": 2016, \"prisoner_count\": 9038, \"Cases Count\": 25975}, {\"jurisdiction\": \"MICHIGAN\", \"id\": 26, \"year\": 2016, \"prisoner_count\": 41122, \"Cases Count\": 45782}, {\"jurisdiction\": \"MINNESOTA\", \"id\": 27, \"year\": 2016, \"prisoner_count\": 9509, \"Cases Count\": 13365}, {\"jurisdiction\": \"MISSISSIPPI\", \"id\": 28, \"year\": 2016, \"prisoner_count\": 13720, \"Cases Count\": 8411}, {\"jurisdiction\": \"MISSOURI\", \"id\": 29, \"year\": 2016, \"prisoner_count\": 32427, \"Cases Count\": 31720}, {\"jurisdiction\": \"MONTANA\", \"id\": 30, \"year\": 2016, \"prisoner_count\": 3199, \"Cases Count\": 3886}, {\"jurisdiction\": \"NEBRASKA\", \"id\": 31, \"year\": 2016, \"prisoner_count\": 5167, \"Cases Count\": 5661}, {\"jurisdiction\": \"NEVADA\", \"id\": 32, \"year\": 2016, \"prisoner_count\": 13932, \"Cases Count\": 19924}, {\"jurisdiction\": \"NEW HAMPSHIRE\", \"id\": 33, \"year\": 2016, \"prisoner_count\": 2599, \"Cases Count\": 2668}, {\"jurisdiction\": \"NEW JERSEY\", \"id\": 34, \"year\": 2016, \"prisoner_count\": 19458, \"Cases Count\": 21861}, {\"jurisdiction\": \"NEW MEXICO\", \"id\": 35, \"year\": 2016, \"prisoner_count\": 6996, \"Cases Count\": 14585}, {\"jurisdiction\": \"NEW YORK\", \"id\": 36, \"year\": 2016, \"prisoner_count\": 50611, \"Cases Count\": 74315}, {\"jurisdiction\": \"NORTH CAROLINA\", \"id\": 37, \"year\": 2016, \"prisoner_count\": 35970, \"Cases Count\": 37767}, {\"jurisdiction\": \"NORTH DAKOTA\", \"id\": 38, \"year\": 2016, \"prisoner_count\": 1639, \"Cases Count\": 1905}, {\"jurisdiction\": \"OHIO\", \"id\": 39, \"year\": 2016, \"prisoner_count\": 52172, \"Cases Count\": 35759}, {\"jurisdiction\": \"OKLAHOMA\", \"id\": 40, \"year\": 2016, \"prisoner_count\": 26367, \"Cases Count\": 17855}, {\"jurisdiction\": \"OREGON\", \"id\": 41, \"year\": 2016, \"prisoner_count\": 14579, \"Cases Count\": 10983}, {\"jurisdiction\": \"PENNSYLVANIA\", \"id\": 42, \"year\": 2016, \"prisoner_count\": 48287, \"Cases Count\": 40389}, {\"jurisdiction\": \"RHODE ISLAND\", \"id\": 44, \"year\": 2016, \"prisoner_count\": 2887, \"Cases Count\": 2529}, {\"jurisdiction\": \"SOUTH CAROLINA\", \"id\": 45, \"year\": 2016, \"prisoner_count\": 20376, \"Cases Count\": 25137}, {\"jurisdiction\": \"SOUTH DAKOTA\", \"id\": 46, \"year\": 2016, \"prisoner_count\": 3770, \"Cases Count\": 3636}, {\"jurisdiction\": \"TENNESSEE\", \"id\": 47, \"year\": 2016, \"prisoner_count\": 21539, \"Cases Count\": 42459}, {\"jurisdiction\": \"TEXAS\", \"id\": 48, \"year\": 2016, \"prisoner_count\": 151276, \"Cases Count\": 121064}, {\"jurisdiction\": \"UTAH\", \"id\": 49, \"year\": 2016, \"prisoner_count\": 4502, \"Cases Count\": 7406}, {\"jurisdiction\": \"VERMONT\", \"id\": 50, \"year\": 2016, \"prisoner_count\": 1735, \"Cases Count\": 851}, {\"jurisdiction\": \"VIRGINIA\", \"id\": 51, \"year\": 2016, \"prisoner_count\": 29882, \"Cases Count\": 18495}, {\"jurisdiction\": \"WASHINGTON\", \"id\": 53, \"year\": 2016, \"prisoner_count\": 17228, \"Cases Count\": 22101}, {\"jurisdiction\": \"WEST VIRGINIA\", \"id\": 54, \"year\": 2016, \"prisoner_count\": 5899, \"Cases Count\": 6633}, {\"jurisdiction\": \"WISCONSIN\", \"id\": 55, \"year\": 2016, \"prisoner_count\": 23163, \"Cases Count\": 17716}, {\"jurisdiction\": \"WYOMING\", \"id\": 56, \"year\": 2016, \"prisoner_count\": 2352, \"Cases Count\": 1431}]}}, {\"mode\": \"vega-lite\"});\n",
       "</script>"
      ],
      "text/plain": [
       "alt.HConcatChart(...)"
      ]
     },
     "execution_count": 260,
     "metadata": {},
     "output_type": "execute_result"
    }
   ],
   "source": [
    "alt.hconcat(chart1 | chart2, title=alt.TitleParams(\n",
    "    text = \"1. Violent Crime Cases in USA\",\n",
    "    subtitle = \"No significant decrease in cases count from 2001 to 2016\",\n",
    "    anchor = \"middle\",\n",
    "    align = \"center\",\n",
    "    color = \"black\",\n",
    "    fontSize = 30,\n",
    "    font = \"georgia\",\n",
    "    subtitleFontSize = 20,\n",
    "    offset=30\n",
    "))"
   ]
  },
  {
   "cell_type": "code",
   "execution_count": 230,
   "metadata": {},
   "outputs": [],
   "source": [
    "source = pd.read_csv(\"data2.csv\")"
   ]
  },
  {
   "cell_type": "code",
   "execution_count": 252,
   "metadata": {},
   "outputs": [],
   "source": [
    "chart1 = alt.Chart(states,title=alt.TitleParams(\n",
    "    text = \"2001\",\n",
    "    anchor = \"middle\",\n",
    "    align = \"center\",\n",
    "    color = \"black\",\n",
    "    fontSize = 15,\n",
    ")).mark_geoshape(stroke='#aaa', strokeWidth=0.25).transform_lookup(\n",
    "    lookup='id',\n",
    "    from_=alt.LookupData(data=source, key='id', fields=['Count'])\n",
    ").encode(\n",
    "    color=alt.Color('Count:Q',\n",
    "              scale=alt.Scale(scheme=\"reds\", domain=[0, 200000]),\n",
    "              legend = None)\n",
    ").properties(\n",
    "    width=800,\n",
    "    height=500\n",
    ").project(\n",
    "    type='albersUsa'\n",
    ")\n",
    "\n",
    "chart2 = alt.Chart(states,title=alt.TitleParams(\n",
    "    text = \"2016\",\n",
    "    anchor = \"middle\",\n",
    "    align = \"center\",\n",
    "    color = \"black\",\n",
    "    fontSize = 15,\n",
    ")).mark_geoshape(stroke='#aaa', strokeWidth=0.25).transform_lookup(\n",
    "    lookup='id',\n",
    "    from_=alt.LookupData(data=source, key='id2', fields=['Cases Count'])\n",
    ").encode(\n",
    "    color=alt.Color('Cases Count:Q',\n",
    "              scale=alt.Scale(scheme=\"orangered\", domain=[0, 200000]),\n",
    "              legend = alt.Legend(titleFontSize=15,labelFontSize=15,titlePadding=15))\n",
    ").properties(\n",
    "    width=800,\n",
    "    height=500\n",
    ").project(\n",
    "    type='albersUsa'\n",
    ")"
   ]
  },
  {
   "cell_type": "code",
   "execution_count": 254,
   "metadata": {},
   "outputs": [
    {
     "name": "stderr",
     "output_type": "stream",
     "text": [
      "/home/dhonicap/miniconda3/envs/titanic/lib/python3.10/site-packages/altair/utils/core.py:317: FutureWarning: iteritems is deprecated and will be removed in a future version. Use .items instead.\n",
      "  for col_name, dtype in df.dtypes.iteritems():\n"
     ]
    },
    {
     "data": {
      "text/html": [
       "\n",
       "<div id=\"altair-viz-0eddd7066e28495aa8ebe89d4e74dd23\"></div>\n",
       "<script type=\"text/javascript\">\n",
       "  var VEGA_DEBUG = (typeof VEGA_DEBUG == \"undefined\") ? {} : VEGA_DEBUG;\n",
       "  (function(spec, embedOpt){\n",
       "    let outputDiv = document.currentScript.previousElementSibling;\n",
       "    if (outputDiv.id !== \"altair-viz-0eddd7066e28495aa8ebe89d4e74dd23\") {\n",
       "      outputDiv = document.getElementById(\"altair-viz-0eddd7066e28495aa8ebe89d4e74dd23\");\n",
       "    }\n",
       "    const paths = {\n",
       "      \"vega\": \"https://cdn.jsdelivr.net/npm//vega@5?noext\",\n",
       "      \"vega-lib\": \"https://cdn.jsdelivr.net/npm//vega-lib?noext\",\n",
       "      \"vega-lite\": \"https://cdn.jsdelivr.net/npm//vega-lite@4.17.0?noext\",\n",
       "      \"vega-embed\": \"https://cdn.jsdelivr.net/npm//vega-embed@6?noext\",\n",
       "    };\n",
       "\n",
       "    function maybeLoadScript(lib, version) {\n",
       "      var key = `${lib.replace(\"-\", \"\")}_version`;\n",
       "      return (VEGA_DEBUG[key] == version) ?\n",
       "        Promise.resolve(paths[lib]) :\n",
       "        new Promise(function(resolve, reject) {\n",
       "          var s = document.createElement('script');\n",
       "          document.getElementsByTagName(\"head\")[0].appendChild(s);\n",
       "          s.async = true;\n",
       "          s.onload = () => {\n",
       "            VEGA_DEBUG[key] = version;\n",
       "            return resolve(paths[lib]);\n",
       "          };\n",
       "          s.onerror = () => reject(`Error loading script: ${paths[lib]}`);\n",
       "          s.src = paths[lib];\n",
       "        });\n",
       "    }\n",
       "\n",
       "    function showError(err) {\n",
       "      outputDiv.innerHTML = `<div class=\"error\" style=\"color:red;\">${err}</div>`;\n",
       "      throw err;\n",
       "    }\n",
       "\n",
       "    function displayChart(vegaEmbed) {\n",
       "      vegaEmbed(outputDiv, spec, embedOpt)\n",
       "        .catch(err => showError(`Javascript Error: ${err.message}<br>This usually means there's a typo in your chart specification. See the javascript console for the full traceback.`));\n",
       "    }\n",
       "\n",
       "    if(typeof define === \"function\" && define.amd) {\n",
       "      requirejs.config({paths});\n",
       "      require([\"vega-embed\"], displayChart, err => showError(`Error loading script: ${err.message}`));\n",
       "    } else {\n",
       "      maybeLoadScript(\"vega\", \"5\")\n",
       "        .then(() => maybeLoadScript(\"vega-lite\", \"4.17.0\"))\n",
       "        .then(() => maybeLoadScript(\"vega-embed\", \"6\"))\n",
       "        .catch(showError)\n",
       "        .then(() => displayChart(vegaEmbed));\n",
       "    }\n",
       "  })({\"config\": {\"view\": {\"continuousWidth\": 400, \"continuousHeight\": 300}}, \"hconcat\": [{\"mark\": {\"type\": \"geoshape\", \"stroke\": \"#aaa\", \"strokeWidth\": 0.25}, \"encoding\": {\"color\": {\"field\": \"Count\", \"legend\": null, \"scale\": {\"domain\": [0, 200000], \"scheme\": \"reds\"}, \"type\": \"quantitative\"}}, \"height\": 500, \"projection\": {\"type\": \"albersUsa\"}, \"title\": {\"text\": \"2001\", \"align\": \"center\", \"anchor\": \"middle\", \"color\": \"black\", \"fontSize\": 15}, \"transform\": [{\"lookup\": \"id\", \"from\": {\"data\": {\"name\": \"data-dc16ebc1f73039dbfceba0ca0b977bae\"}, \"key\": \"id\", \"fields\": [\"Count\"]}}], \"width\": 800}, {\"mark\": {\"type\": \"geoshape\", \"stroke\": \"#aaa\", \"strokeWidth\": 0.25}, \"encoding\": {\"color\": {\"field\": \"Cases Count\", \"legend\": {\"labelFontSize\": 15, \"titleFontSize\": 15, \"titlePadding\": 15}, \"scale\": {\"domain\": [0, 200000], \"scheme\": \"orangered\"}, \"type\": \"quantitative\"}}, \"height\": 500, \"projection\": {\"type\": \"albersUsa\"}, \"title\": {\"text\": \"2016\", \"align\": \"center\", \"anchor\": \"middle\", \"color\": \"black\", \"fontSize\": 15}, \"transform\": [{\"lookup\": \"id\", \"from\": {\"data\": {\"name\": \"data-dc16ebc1f73039dbfceba0ca0b977bae\"}, \"key\": \"id2\", \"fields\": [\"Cases Count\"]}}], \"width\": 800}], \"data\": {\"url\": \"https://cdn.jsdelivr.net/npm/vega-datasets@v1.29.0/data/us-10m.json\", \"format\": {\"feature\": \"states\", \"type\": \"topojson\"}}, \"resolve\": {\"scale\": {\"color\": \"independent\"}}, \"title\": {\"text\": \"2. Violent Crime Cases in USA\", \"subtitle\": \"Significant decrease in cases count from 2001 to 2016 except for a few states\", \"anchor\": \"middle\", \"fontSize\": 30, \"font\": \"georgia\", \"subtitleFontSize\": 20, \"offset\": 30}, \"$schema\": \"https://vega.github.io/schema/vega-lite/v4.17.0.json\", \"datasets\": {\"data-dc16ebc1f73039dbfceba0ca0b977bae\": [{\"jurisdiction\": \"ALABAMA\", \"id\": 1, \"Count\": 19582, \"Cases Count\": 25878, \"id2\": 1}, {\"jurisdiction\": \"ALASKA\", \"id\": 2, \"Count\": 3735, \"Cases Count\": 5966, \"id2\": 2}, {\"jurisdiction\": \"ARIZONA\", \"id\": 4, \"Count\": 28675, \"Cases Count\": 32542, \"id2\": 4}, {\"jurisdiction\": \"ARKANSAS\", \"id\": 5, \"Count\": 12190, \"Cases Count\": 16563, \"id2\": 5}, {\"jurisdiction\": \"CALIFORNIA\", \"id\": 6, \"Count\": 174796, \"Cases Count\": 192867, \"id2\": 6}, {\"jurisdiction\": \"COLORADO\", \"id\": 8, \"Count\": 15492, \"Cases Count\": 19030, \"id2\": 8}, {\"jurisdiction\": \"CONNECTICUT\", \"id\": 9, \"Count\": 8169, \"Cases Count\": 11492, \"id2\": 9}, {\"jurisdiction\": \"DELAWARE\", \"id\": 10, \"Count\": 4868, \"Cases Count\": 4859, \"id2\": 10}, {\"jurisdiction\": \"FLORIDA\", \"id\": 12, \"Count\": 88700, \"Cases Count\": 130713, \"id2\": 12}, {\"jurisdiction\": \"GEORGIA\", \"id\": 13, \"Count\": 41671, \"Cases Count\": 40268, \"id2\": 13}, {\"jurisdiction\": \"HAWAII\", \"id\": 15, \"Count\": 3117, \"Cases Count\": 3452, \"id2\": 15}, {\"jurisdiction\": \"IDAHO\", \"id\": 16, \"Count\": 3211, \"Cases Count\": 3876, \"id2\": 16}, {\"jurisdiction\": \"ILLINOIS\", \"id\": 17, \"Count\": 79270, \"Cases Count\": 56054, \"id2\": 17}, {\"jurisdiction\": \"INDIANA\", \"id\": 18, \"Count\": 22734, \"Cases Count\": 26516, \"id2\": 18}, {\"jurisdiction\": \"IOWA\", \"id\": 19, \"Count\": 7865, \"Cases Count\": 9170, \"id2\": 19}, {\"jurisdiction\": \"KANSAS\", \"id\": 20, \"Count\": 10909, \"Cases Count\": 11665, \"id2\": 20}, {\"jurisdiction\": \"KENTUCKY\", \"id\": 21, \"Count\": 10510, \"Cases Count\": 10452, \"id2\": 21}, {\"jurisdiction\": \"LOUISIANA\", \"id\": 22, \"Count\": 30678, \"Cases Count\": 26477, \"id2\": 22}, {\"jurisdiction\": \"MAINE\", \"id\": 23, \"Count\": 1435, \"Cases Count\": 1649, \"id2\": 23}, {\"jurisdiction\": \"MARYLAND\", \"id\": 24, \"Count\": 42088, \"Cases Count\": 29019, \"id2\": 24}, {\"jurisdiction\": \"MASSACHUSETTS\", \"id\": 25, \"Count\": 30585, \"Cases Count\": 25975, \"id2\": 25}, {\"jurisdiction\": \"MICHIGAN\", \"id\": 26, \"Count\": 55424, \"Cases Count\": 45782, \"id2\": 26}, {\"jurisdiction\": \"MINNESOTA\", \"id\": 27, \"Count\": 13145, \"Cases Count\": 13365, \"id2\": 27}, {\"jurisdiction\": \"MISSISSIPPI\", \"id\": 28, \"Count\": 10006, \"Cases Count\": 8411, \"id2\": 28}, {\"jurisdiction\": \"MISSOURI\", \"id\": 29, \"Count\": 30472, \"Cases Count\": 31720, \"id2\": 29}, {\"jurisdiction\": \"MONTANA\", \"id\": 30, \"Count\": 3187, \"Cases Count\": 3886, \"id2\": 30}, {\"jurisdiction\": \"NEBRASKA\", \"id\": 31, \"Count\": 5214, \"Cases Count\": 5661, \"id2\": 31}, {\"jurisdiction\": \"NEVADA\", \"id\": 32, \"Count\": 12359, \"Cases Count\": 19924, \"id2\": 32}, {\"jurisdiction\": \"NEW HAMPSHIRE\", \"id\": 33, \"Count\": 2144, \"Cases Count\": 2668, \"id2\": 33}, {\"jurisdiction\": \"NEW JERSEY\", \"id\": 34, \"Count\": 33094, \"Cases Count\": 21861, \"id2\": 34}, {\"jurisdiction\": \"NEW MEXICO\", \"id\": 35, \"Count\": 14288, \"Cases Count\": 14585, \"id2\": 35}, {\"jurisdiction\": \"NEW YORK\", \"id\": 36, \"Count\": 98022, \"Cases Count\": 74315, \"id2\": 36}, {\"jurisdiction\": \"NORTH CAROLINA\", \"id\": 37, \"Count\": 40465, \"Cases Count\": 37767, \"id2\": 37}, {\"jurisdiction\": \"NORTH DAKOTA\", \"id\": 38, \"Count\": 505, \"Cases Count\": 1905, \"id2\": 38}, {\"jurisdiction\": \"OHIO\", \"id\": 39, \"Count\": 40023, \"Cases Count\": 35759, \"id2\": 39}, {\"jurisdiction\": \"OKLAHOMA\", \"id\": 40, \"Count\": 17726, \"Cases Count\": 17855, \"id2\": 40}, {\"jurisdiction\": \"OREGON\", \"id\": 41, \"Count\": 10650, \"Cases Count\": 10983, \"id2\": 41}, {\"jurisdiction\": \"PENNSYLVANIA\", \"id\": 42, \"Count\": 50432, \"Cases Count\": 40389, \"id2\": 42}, {\"jurisdiction\": \"RHODE ISLAND\", \"id\": 44, \"Count\": 3278, \"Cases Count\": 2529, \"id2\": 44}, {\"jurisdiction\": \"SOUTH CAROLINA\", \"id\": 45, \"Count\": 33114, \"Cases Count\": 25137, \"id2\": 45}, {\"jurisdiction\": \"SOUTH DAKOTA\", \"id\": 46, \"Count\": 1171, \"Cases Count\": 3636, \"id2\": 46}, {\"jurisdiction\": \"TENNESSEE\", \"id\": 47, \"Count\": 42776, \"Cases Count\": 42459, \"id2\": 47}, {\"jurisdiction\": \"TEXAS\", \"id\": 48, \"Count\": 122155, \"Cases Count\": 121064, \"id2\": 48}, {\"jurisdiction\": \"UTAH\", \"id\": 49, \"Count\": 5314, \"Cases Count\": 7406, \"id2\": 49}, {\"jurisdiction\": \"VERMONT\", \"id\": 50, \"Count\": 644, \"Cases Count\": 851, \"id2\": 50}, {\"jurisdiction\": \"VIRGINIA\", \"id\": 51, \"Count\": 20939, \"Cases Count\": 18495, \"id2\": 51}, {\"jurisdiction\": \"WASHINGTON\", \"id\": 53, \"Count\": 21258, \"Cases Count\": 22101, \"id2\": 53}, {\"jurisdiction\": \"WEST VIRGINIA\", \"id\": 54, \"Count\": 5035, \"Cases Count\": 6633, \"id2\": 54}, {\"jurisdiction\": \"WISCONSIN\", \"id\": 55, \"Count\": 12486, \"Cases Count\": 17716, \"id2\": 55}, {\"jurisdiction\": \"WYOMING\", \"id\": 56, \"Count\": 1272, \"Cases Count\": 1431, \"id2\": 56}]}}, {\"mode\": \"vega-lite\"});\n",
       "</script>"
      ],
      "text/plain": [
       "alt.HConcatChart(...)"
      ]
     },
     "execution_count": 254,
     "metadata": {},
     "output_type": "execute_result"
    }
   ],
   "source": [
    "(chart1 | chart2).properties(\n",
    "    title={\n",
    "        \"text\": \"2. Violent Crime Cases in USA\",\n",
    "        \"subtitle\":\"Significant decrease in cases count from 2001 to 2016 except for a few states\",\n",
    "        \"anchor\": \"middle\",\n",
    "        \n",
    "        \"fontSize\" : 30,\n",
    "        \"font\" : \"georgia\",\n",
    "        \"subtitleFontSize\":20,\n",
    "        \"offset\":30\n",
    "    }\n",
    ").resolve_scale(\n",
    "    color='independent'\n",
    ")"
   ]
  }
 ],
 "metadata": {
  "kernelspec": {
   "display_name": "Python 3",
   "language": "python",
   "name": "python3"
  },
  "language_info": {
   "codemirror_mode": {
    "name": "ipython",
    "version": 3
   },
   "file_extension": ".py",
   "mimetype": "text/x-python",
   "name": "python",
   "nbconvert_exporter": "python",
   "pygments_lexer": "ipython3",
   "version": "3.10.8"
  },
  "orig_nbformat": 4
 },
 "nbformat": 4,
 "nbformat_minor": 2
}
